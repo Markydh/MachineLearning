{
 "cells": [
  {
   "cell_type": "code",
   "execution_count": 56,
   "metadata": {},
   "outputs": [
    {
     "name": "stdout",
     "output_type": "stream",
     "text": [
      "(1797, 8, 8)\n"
     ]
    }
   ],
   "source": [
    "from sklearn.datasets import load_digits\n",
    "\n",
    "digits = load_digits()\n",
    "print(digits.images.shape)"
   ]
  },
  {
   "cell_type": "code",
   "execution_count": 57,
   "metadata": {},
   "outputs": [
    {
     "data": {
      "image/png": "[encoded data removed]",
      "text/plain": [
       "<Figure size 640x480 with 1 Axes>"
      ]
     },
     "metadata": {},
     "output_type": "display_data"
    },
    {
     "data": {
      "image/png": "[encoded data removed]",
      "text/plain": [
       "<Figure size 640x480 with 1 Axes>"
      ]
     },
     "metadata": {},
     "output_type": "display_data"
    },
    {
     "data": {
      "image/png": "[encoded data removed]",
      "text/plain": [
       "<Figure size 640x480 with 1 Axes>"
      ]
     },
     "metadata": {},
     "output_type": "display_data"
    }
   ],
   "source": [
    "# 显示图片\n",
    "from matplotlib import pyplot as plt\n",
    "plt.imshow(digits.images[0],cmap='gray')\n",
    "plt.show()\n",
    "plt.imshow(digits.images[1],cmap='gray')\n",
    "plt.show()\n",
    "plt.imshow(digits.images[2],cmap='gray')\n",
    "plt.show()"
   ]
  },
  {
   "cell_type": "code",
   "execution_count": 58,
   "metadata": {},
   "outputs": [
    {
     "name": "stdout",
     "output_type": "stream",
     "text": [
      "(1797, 64)\n",
      "(1797,)\n",
      "[[ 0.  0.  5. 13.  9.  1.  0.  0.  0.  0. 13. 15. 10. 15.  5.  0.  0.  3.\n",
      "  15.  2.  0. 11.  8.  0.  0.  4. 12.  0.  0.  8.  8.  0.  0.  5.  8.  0.\n",
      "   0.  9.  8.  0.  0.  4. 11.  0.  1. 12.  7.  0.  0.  2. 14.  5. 10. 12.\n",
      "   0.  0.  0.  0.  6. 13. 10.  0.  0.  0.]\n",
      " [ 0.  0.  0. 12. 13.  5.  0.  0.  0.  0.  0. 11. 16.  9.  0.  0.  0.  0.\n",
      "   3. 15. 16.  6.  0.  0.  0.  7. 15. 16. 16.  2.  0.  0.  0.  0.  1. 16.\n",
      "  16.  3.  0.  0.  0.  0.  1. 16. 16.  6.  0.  0.  0.  0.  1. 16. 16.  6.\n",
      "   0.  0.  0.  0.  0. 11. 16. 10.  0.  0.]\n",
      " [ 0.  0.  0.  4. 15. 12.  0.  0.  0.  0.  3. 16. 15. 14.  0.  0.  0.  0.\n",
      "   8. 13.  8. 16.  0.  0.  0.  0.  1.  6. 15. 11.  0.  0.  0.  1.  8. 13.\n",
      "  15.  1.  0.  0.  0.  9. 16. 16.  5.  0.  0.  0.  0.  3. 13. 16. 16. 11.\n",
      "   5.  0.  0.  0.  0.  3. 11. 16.  9.  0.]]\n",
      "[0 1 2]\n"
     ]
    }
   ],
   "source": [
    "# 数据\n",
    "X = digits.data\n",
    "# 标签\n",
    "y = digits.target\n",
    "print(X.shape)\n",
    "print(y.shape)\n",
    "print(X[:3])\n",
    "print(y[:3])"
   ]
  },
  {
   "cell_type": "code",
   "execution_count": 59,
   "metadata": {},
   "outputs": [
    {
     "name": "stdout",
     "output_type": "stream",
     "text": [
      "(1347, 64)\n",
      "(450, 64)\n",
      "[7 4 1 6 7]\n",
      "[[0 0 0 0 0 0 0 1 0 0]\n",
      " [0 0 0 0 1 0 0 0 0 0]\n",
      " [0 1 0 0 0 0 0 0 0 0]\n",
      " [0 0 0 0 0 0 1 0 0 0]\n",
      " [0 0 0 0 0 0 0 1 0 0]]\n"
     ]
    }
   ],
   "source": [
    "from sklearn.model_selection import train_test_split\n",
    "from sklearn.preprocessing import LabelBinarizer\n",
    "# 数据切分\n",
    "# 默认：1/4为测试集，3/4为训练集\n",
    "X_train,X_test,y_train,y_test = train_test_split(X,y)\n",
    "print(X_train.shape)\n",
    "print(X_test.shape)\n",
    "# 标签二值化 \n",
    "# 0->1000000000\n",
    "# 3->0001000000\n",
    "# 9->0000000001\n",
    "labels_train = LabelBinarizer().fit_transform(y_train)\n",
    "print(y_train[:5])\n",
    "print(labels_train[:5])"
   ]
  },
  {
   "cell_type": "code",
   "execution_count": 60,
   "metadata": {},
   "outputs": [],
   "source": [
    "import numpy as np\n",
    "# 定义一个神经网络，结构：64-100-10\n",
    "# 定义输入层到隐藏层之间的权值矩阵，数值范围-1到1\n",
    "V = np.random.random((64,100))*2-1\n",
    "# 定义隐藏层到输出层之间的权值矩阵\n",
    "W = np.random.random((100,10))*2-1"
   ]
  },
  {
   "cell_type": "code",
   "execution_count": 61,
   "metadata": {},
   "outputs": [],
   "source": [
    "# 激活函数\n",
    "def sigmoid(x):\n",
    "    return 1/(1+np.exp(-x))\n",
    "\n",
    "# 激活函数的导数\n",
    "def dsigmoid(x):\n",
    "    return x*(1-x)\n",
    "\n",
    "# 训练模型\n",
    "def train(X,y,steps=10000,lr=0.11):\n",
    "    global V,W\n",
    "    for n in range(steps+1):\n",
    "        # 随机选取一个数据\n",
    "        i = np.random.randint(X.shape[0])\n",
    "        # 获取一个数据\n",
    "        x = X[i]\n",
    "        x = np.atleast_2d(x)\n",
    "        # BP算法公式\n",
    "        # 计算隐藏层的输出\n",
    "        L1 = sigmoid(np.dot(x,V))\n",
    "        # 计算输出的输出\n",
    "        L2 = sigmoid(np.dot(L1,W))\n",
    "        # 计算L2_delta，L1_delta\n",
    "        L2_delta = (y[i]-L2)*dsigmoid(L2)\n",
    "        L1_delta = L2_delta.dot(W.T)*dsigmoid(L1)\n",
    "        # 更新权值\n",
    "        W += lr*L1.T.dot(L2_delta)\n",
    "        V += lr*x.T.dot(L1_delta)\n",
    "        \n",
    "        # 每训练1000次预测一次准确率\n",
    "        if n%1000==0:\n",
    "            output = predict(X_test)\n",
    "            predictions = np.argmax(output,axis=1)\n",
    "            acc = np.mean(np.equal(predictions,y_test))\n",
    "            print('steps:',n,'accuracy:',acc)\n",
    "\n",
    "def predict(x):\n",
    "    # 计算隐藏层的输出\n",
    "    L1 = sigmoid(np.dot(x,V))\n",
    "    # 计算输出的输出\n",
    "    L2 = sigmoid(np.dot(L1,W))\n",
    "    return L2"
   ]
  },
  {
   "cell_type": "code",
   "execution_count": 62,
   "metadata": {},
   "outputs": [
    {
     "name": "stdout",
     "output_type": "stream",
     "text": [
      "steps: 0 accuracy: 0.09111111111111111\n",
      "steps: 1000 accuracy: 0.4088888888888889\n",
      "steps: 2000 accuracy: 0.5266666666666666\n",
      "steps: 3000 accuracy: 0.68\n",
      "steps: 4000 accuracy: 0.7177777777777777\n",
      "steps: 5000 accuracy: 0.7777777777777778\n",
      "steps: 6000 accuracy: 0.8222222222222222\n",
      "steps: 7000 accuracy: 0.8266666666666667\n",
      "steps: 8000 accuracy: 0.82\n",
      "steps: 9000 accuracy: 0.8577777777777778\n",
      "steps: 10000 accuracy: 0.8311111111111111\n",
      "steps: 11000 accuracy: 0.8555555555555555\n",
      "steps: 12000 accuracy: 0.8577777777777778\n",
      "steps: 13000 accuracy: 0.8622222222222222\n",
      "steps: 14000 accuracy: 0.8466666666666667\n",
      "steps: 15000 accuracy: 0.86\n",
      "steps: 16000 accuracy: 0.8555555555555555\n",
      "steps: 17000 accuracy: 0.8666666666666667\n",
      "steps: 18000 accuracy: 0.8622222222222222\n",
      "steps: 19000 accuracy: 0.8555555555555555\n",
      "steps: 20000 accuracy: 0.8733333333333333\n",
      "steps: 21000 accuracy: 0.8622222222222222\n",
      "steps: 22000 accuracy: 0.86\n",
      "steps: 23000 accuracy: 0.8688888888888889\n",
      "steps: 24000 accuracy: 0.8733333333333333\n",
      "steps: 25000 accuracy: 0.8733333333333333\n",
      "steps: 26000 accuracy: 0.8711111111111111\n",
      "steps: 27000 accuracy: 0.8866666666666667\n",
      "steps: 28000 accuracy: 0.9511111111111111\n",
      "steps: 29000 accuracy: 0.9577777777777777\n",
      "steps: 30000 accuracy: 0.9555555555555556\n"
     ]
    }
   ],
   "source": [
    "train(X_train,labels_train,30000)"
   ]
  },
  {
   "cell_type": "code",
   "execution_count": 63,
   "metadata": {},
   "outputs": [
    {
     "name": "stdout",
     "output_type": "stream",
     "text": [
      "              precision    recall  f1-score   support\n",
      "\n",
      "           0       0.98      1.00      0.99        40\n",
      "           1       1.00      0.82      0.90        56\n",
      "           2       0.97      0.97      0.97        30\n",
      "           3       0.97      0.98      0.97        57\n",
      "           4       0.92      0.96      0.94        46\n",
      "           5       0.98      1.00      0.99        50\n",
      "           6       0.98      0.98      0.98        42\n",
      "           7       1.00      0.98      0.99        41\n",
      "           8       0.85      1.00      0.92        46\n",
      "           9       0.95      0.90      0.93        42\n",
      "\n",
      "    accuracy                           0.96       450\n",
      "   macro avg       0.96      0.96      0.96       450\n",
      "weighted avg       0.96      0.96      0.96       450\n",
      "\n"
     ]
    }
   ],
   "source": [
    "from sklearn.metrics import classification_report,confusion_matrix\n",
    "output = predict(X_test)\n",
    "predictions = np.argmax(output,axis=1)\n",
    "print(classification_report(predictions,y_test))"
   ]
  },
  {
   "cell_type": "code",
   "execution_count": 64,
   "metadata": {},
   "outputs": [
    {
     "name": "stdout",
     "output_type": "stream",
     "text": [
      "[[40  0  0  0  0  0  0  0  0  0]\n",
      " [ 0 46  1  0  0  1  1  0  7  0]\n",
      " [ 0  0 29  1  0  0  0  0  0  0]\n",
      " [ 0  0  0 56  0  0  0  0  0  1]\n",
      " [ 1  0  0  0 44  0  0  0  1  0]\n",
      " [ 0  0  0  0  0 50  0  0  0  0]\n",
      " [ 0  0  0  0  1  0 41  0  0  0]\n",
      " [ 0  0  0  0  0  0  0 40  0  1]\n",
      " [ 0  0  0  0  0  0  0  0 46  0]\n",
      " [ 0  0  0  1  3  0  0  0  0 38]]\n"
     ]
    }
   ],
   "source": [
    "print(confusion_matrix(predictions,y_test))"
   ]
  }
 ],
 "metadata": {
  "kernelspec": {
   "display_name": "pytorch",
   "language": "python",
   "name": "python3"
  },
  "language_info": {
   "codemirror_mode": {
    "name": "ipython",
    "version": 3
   },
   "file_extension": ".py",
   "mimetype": "text/x-python",
   "name": "python",
   "nbconvert_exporter": "python",
   "pygments_lexer": "ipython3",
   "version": "3.11.7"
  }
 },
 "nbformat": 4,
 "nbformat_minor": 2
}
