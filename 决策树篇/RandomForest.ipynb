{
 "cells": [
  {
   "cell_type": "code",
   "execution_count": 204,
   "metadata": {},
   "outputs": [
    {
     "name": "stderr",
     "output_type": "stream",
     "text": [
      "/var/folders/b3/szc09tk96s97zm3zkfrdgjc80000gn/T/ipykernel_27549/2542424065.py:12: FutureWarning: A value is trying to be set on a copy of a DataFrame or Series through chained assignment using an inplace method.\n",
      "The behavior will change in pandas 3.0. This inplace method will never work because the intermediate object on which we are setting values always behaves as a copy.\n",
      "\n",
      "For example, when doing 'df[col].method(value, inplace=True)', try using 'df.method({col: value}, inplace=True)' or df[col] = df[col].method(value) instead, to perform the operation inplace on the original object.\n",
      "\n",
      "\n",
      "  x['age'].fillna(x['age'].mean(), inplace=True)\n",
      "/var/folders/b3/szc09tk96s97zm3zkfrdgjc80000gn/T/ipykernel_27549/2542424065.py:12: SettingWithCopyWarning: \n",
      "A value is trying to be set on a copy of a slice from a DataFrame\n",
      "\n",
      "See the caveats in the documentation: https://pandas.pydata.org/pandas-docs/stable/user_guide/indexing.html#returning-a-view-versus-a-copy\n",
      "  x['age'].fillna(x['age'].mean(), inplace=True)\n"
     ]
    }
   ],
   "source": [
    "import pandas as pd\n",
    "\n",
    "# 获取数据集 \n",
    "data = pd.read_csv('titanic/titanic.csv')\n",
    "\n",
    "# 数据预处理\n",
    "# 划分特征值和目标值\n",
    "x = data[['pclass','age','sex']]\n",
    "y = data['survived']\n",
    "\n",
    "# 缺失值处理\n",
    "x['age'].fillna(x['age'].mean(), inplace=True)"
   ]
  },
  {
   "cell_type": "code",
   "execution_count": 205,
   "metadata": {},
   "outputs": [],
   "source": [
    "# 将x转换为字典型\n",
    "x = x.to_dict(orient=\"records\")\n"
   ]
  },
  {
   "cell_type": "code",
   "execution_count": 206,
   "metadata": {},
   "outputs": [],
   "source": [
    "# 数据集划分\n",
    "from sklearn.model_selection import train_test_split\n",
    "x_train, x_test, y_train, y_test = train_test_split(x,y,random_state=22) "
   ]
  },
  {
   "cell_type": "code",
   "execution_count": 207,
   "metadata": {},
   "outputs": [],
   "source": [
    "# 字典特征提取\n",
    "from sklearn.feature_extraction import DictVectorizer\n",
    "transfer = DictVectorizer()\n",
    "x_train = transfer.fit_transform(x_train)\n",
    "x_test = transfer.transform(x_test)"
   ]
  },
  {
   "cell_type": "code",
   "execution_count": 208,
   "metadata": {},
   "outputs": [],
   "source": [
    "x_train = x_train.toarray()\n",
    "x_test = x_test.toarray()"
   ]
  },
  {
   "cell_type": "code",
   "execution_count": 209,
   "metadata": {},
   "outputs": [],
   "source": [
    "import numpy as np\n",
    "x1 = np.concatenate((x_test, x_train), axis=0)\n"
   ]
  },
  {
   "cell_type": "code",
   "execution_count": 210,
   "metadata": {},
   "outputs": [
    {
     "name": "stdout",
     "output_type": "stream",
     "text": [
      "结果:\n",
      " 831      True\n",
      "261      True\n",
      "1210     True\n",
      "1155     True\n",
      "255      True\n",
      "        ...  \n",
      "1146     True\n",
      "1125    False\n",
      "386      True\n",
      "1025    False\n",
      "337      True\n",
      "Name: survived, Length: 329, dtype: bool\n",
      "准确率为\n",
      " 0.7811550151975684\n",
      "最佳参数\n",
      " {'max_depth': 3, 'n_estimators': 200}\n",
      "最佳结果 0.8404330260022792\n",
      "最佳估计器\n",
      " RandomForestClassifier(max_depth=3, n_estimators=200)\n",
      "最佳交叉验证结果\n",
      " {'mean_fit_time': array([0.05306659, 0.09281106, 0.18131447, 0.27433853, 0.3660985 ,\n",
      "       0.49611058, 0.52775841, 0.05123324, 0.10087476, 0.20136151,\n",
      "       0.3017312 , 0.40211697, 0.50096736, 0.60660992, 0.05077147,\n",
      "       0.10112405, 0.20093813, 0.30235925, 0.4024302 , 0.50356574,\n",
      "       0.60368099, 0.0510232 , 0.10143991, 0.20214086, 0.30767508,\n",
      "       0.40286102, 0.50449314, 0.61332989]), 'std_fit_time': array([0.00608669, 0.00175207, 0.00670333, 0.01542245, 0.01517171,\n",
      "       0.02845779, 0.01434141, 0.00039895, 0.0009277 , 0.00085317,\n",
      "       0.00210686, 0.00128205, 0.00415665, 0.0108884 , 0.00064965,\n",
      "       0.00068021, 0.00144461, 0.00198418, 0.00253052, 0.00294446,\n",
      "       0.00478487, 0.00032486, 0.00073985, 0.00147433, 0.00928612,\n",
      "       0.00232674, 0.0035183 , 0.01775568]), 'mean_score_time': array([0.00218406, 0.0035316 , 0.00655503, 0.00921602, 0.01315174,\n",
      "       0.01637921, 0.01789217, 0.00251513, 0.00446601, 0.00859041,\n",
      "       0.0126987 , 0.01682782, 0.02081609, 0.02498589, 0.00238457,\n",
      "       0.00447559, 0.00871644, 0.01275058, 0.01692467, 0.02112718,\n",
      "       0.02519884, 0.00238647, 0.0045373 , 0.00873413, 0.01322818,\n",
      "       0.01693788, 0.02112865, 0.02519584]), 'std_score_time': array([2.47789410e-04, 1.81210580e-04, 3.07417563e-04, 1.21308198e-04,\n",
      "       7.83293226e-04, 1.95240673e-03, 1.39475350e-04, 9.26729551e-05,\n",
      "       8.74720564e-05, 1.32133925e-04, 1.59842928e-04, 1.82814976e-04,\n",
      "       3.01625793e-04, 5.31487360e-04, 4.80902981e-05, 5.19159399e-05,\n",
      "       6.56181641e-05, 1.73444520e-04, 2.88181199e-04, 2.01585095e-04,\n",
      "       3.98875625e-04, 3.48960757e-05, 7.54671296e-05, 1.57499580e-04,\n",
      "       6.31465494e-04, 2.03255081e-04, 2.98367873e-04, 3.08581806e-04]), 'param_max_depth': masked_array(data=[3, 3, 3, 3, 3, 3, 3, 10, 10, 10, 10, 10, 10, 10, 15,\n",
      "                   15, 15, 15, 15, 15, 15, 25, 25, 25, 25, 25, 25, 25],\n",
      "             mask=[False, False, False, False, False, False, False, False,\n",
      "                   False, False, False, False, False, False, False, False,\n",
      "                   False, False, False, False, False, False, False, False,\n",
      "                   False, False, False, False],\n",
      "       fill_value=999999), 'param_n_estimators': masked_array(data=[100, 200, 400, 600, 800, 1000, 1200, 100, 200, 400,\n",
      "                   600, 800, 1000, 1200, 100, 200, 400, 600, 800, 1000,\n",
      "                   1200, 100, 200, 400, 600, 800, 1000, 1200],\n",
      "             mask=[False, False, False, False, False, False, False, False,\n",
      "                   False, False, False, False, False, False, False, False,\n",
      "                   False, False, False, False, False, False, False, False,\n",
      "                   False, False, False, False],\n",
      "       fill_value=999999), 'params': [{'max_depth': 3, 'n_estimators': 100}, {'max_depth': 3, 'n_estimators': 200}, {'max_depth': 3, 'n_estimators': 400}, {'max_depth': 3, 'n_estimators': 600}, {'max_depth': 3, 'n_estimators': 800}, {'max_depth': 3, 'n_estimators': 1000}, {'max_depth': 3, 'n_estimators': 1200}, {'max_depth': 10, 'n_estimators': 100}, {'max_depth': 10, 'n_estimators': 200}, {'max_depth': 10, 'n_estimators': 400}, {'max_depth': 10, 'n_estimators': 600}, {'max_depth': 10, 'n_estimators': 800}, {'max_depth': 10, 'n_estimators': 1000}, {'max_depth': 10, 'n_estimators': 1200}, {'max_depth': 15, 'n_estimators': 100}, {'max_depth': 15, 'n_estimators': 200}, {'max_depth': 15, 'n_estimators': 400}, {'max_depth': 15, 'n_estimators': 600}, {'max_depth': 15, 'n_estimators': 800}, {'max_depth': 15, 'n_estimators': 1000}, {'max_depth': 15, 'n_estimators': 1200}, {'max_depth': 25, 'n_estimators': 100}, {'max_depth': 25, 'n_estimators': 200}, {'max_depth': 25, 'n_estimators': 400}, {'max_depth': 25, 'n_estimators': 600}, {'max_depth': 25, 'n_estimators': 800}, {'max_depth': 25, 'n_estimators': 1000}, {'max_depth': 25, 'n_estimators': 1200}], 'split0_test_score': array([0.83248731, 0.83248731, 0.83248731, 0.83248731, 0.82741117,\n",
      "       0.82741117, 0.83248731, 0.79187817, 0.78172589, 0.78172589,\n",
      "       0.78172589, 0.77664975, 0.79187817, 0.78172589, 0.79187817,\n",
      "       0.77664975, 0.79187817, 0.78172589, 0.78172589, 0.77664975,\n",
      "       0.78172589, 0.78172589, 0.78172589, 0.79187817, 0.78172589,\n",
      "       0.78172589, 0.78172589, 0.79187817]), 'split1_test_score': array([0.82741117, 0.83248731, 0.82741117, 0.82741117, 0.82741117,\n",
      "       0.82741117, 0.82741117, 0.8071066 , 0.80203046, 0.80203046,\n",
      "       0.8071066 , 0.8071066 , 0.8071066 , 0.8071066 , 0.80203046,\n",
      "       0.80203046, 0.8071066 , 0.8071066 , 0.8071066 , 0.8071066 ,\n",
      "       0.80203046, 0.8071066 , 0.80203046, 0.8071066 , 0.79695431,\n",
      "       0.8071066 , 0.8071066 , 0.79695431]), 'split2_test_score': array([0.8680203 , 0.86294416, 0.8680203 , 0.8680203 , 0.8680203 ,\n",
      "       0.8680203 , 0.8680203 , 0.86294416, 0.86294416, 0.86294416,\n",
      "       0.85786802, 0.86294416, 0.86294416, 0.86294416, 0.86294416,\n",
      "       0.8680203 , 0.85279188, 0.85786802, 0.86294416, 0.85786802,\n",
      "       0.86294416, 0.84771574, 0.85786802, 0.8680203 , 0.86294416,\n",
      "       0.86294416, 0.86294416, 0.86294416]), 'split3_test_score': array([0.84771574, 0.84771574, 0.84771574, 0.84771574, 0.84771574,\n",
      "       0.84771574, 0.84771574, 0.81218274, 0.82233503, 0.82233503,\n",
      "       0.82233503, 0.82233503, 0.82233503, 0.82233503, 0.81218274,\n",
      "       0.82233503, 0.81725888, 0.82741117, 0.81725888, 0.81725888,\n",
      "       0.81725888, 0.82233503, 0.82233503, 0.82741117, 0.82741117,\n",
      "       0.82741117, 0.82233503, 0.82233503]), 'split4_test_score': array([0.82653061, 0.82653061, 0.82653061, 0.82653061, 0.82653061,\n",
      "       0.82653061, 0.82653061, 0.81632653, 0.81632653, 0.81632653,\n",
      "       0.81632653, 0.81632653, 0.81632653, 0.81632653, 0.81632653,\n",
      "       0.81632653, 0.81632653, 0.81632653, 0.81632653, 0.81632653,\n",
      "       0.81632653, 0.82142857, 0.81122449, 0.81632653, 0.82142857,\n",
      "       0.81632653, 0.81632653, 0.81632653]), 'mean_test_score': array([0.84043303, 0.84043303, 0.84043303, 0.84043303, 0.8394178 ,\n",
      "       0.8394178 , 0.84043303, 0.81808764, 0.81707241, 0.81707241,\n",
      "       0.81707241, 0.81707241, 0.8201181 , 0.81808764, 0.81707241,\n",
      "       0.81707241, 0.81707241, 0.81808764, 0.81707241, 0.81504196,\n",
      "       0.81605718, 0.81606236, 0.81503678, 0.82214855, 0.81809282,\n",
      "       0.81910287, 0.81808764, 0.81808764]), 'std_test_score': array([0.0157485 , 0.01326149, 0.0157485 , 0.0157485 , 0.01637899,\n",
      "       0.01637899, 0.0157485 , 0.02390647, 0.02686301, 0.02686301,\n",
      "       0.02466263, 0.02780568, 0.02374934, 0.02636668, 0.02445278,\n",
      "       0.02994726, 0.02005262, 0.02496104, 0.02628118, 0.02599065,\n",
      "       0.02674058, 0.02158369, 0.02522337, 0.02572301, 0.02785316,\n",
      "       0.02660731, 0.02636668, 0.02516666]), 'rank_test_score': array([ 2,  1,  2,  2,  6,  6,  2, 16, 17, 17, 17, 17,  9, 12, 17, 17, 17,\n",
      "       12, 17, 27, 26, 25, 28,  8, 11, 10, 12, 12], dtype=int32)}\n"
     ]
    }
   ],
   "source": [
    "# 随机森林\n",
    "from sklearn.ensemble import RandomForestClassifier\n",
    "from sklearn.model_selection import GridSearchCV\n",
    "\n",
    "\n",
    "\n",
    "grid_param = {\"n_estimators\":[100,200,400,600,800,1000,1200],\"max_depth\":[3,10,15,25]}\n",
    "estimator = RandomForestClassifier()\n",
    "estimator = GridSearchCV(estimator,param_grid=grid_param,cv=5)\n",
    "estimator.fit(x_train, y_train)\n",
    "y_predict = estimator.predict(x_test) \n",
    "print('结果:\\n', y_test == y_predict)\n",
    "print('准确率为\\n',estimator.score(x_test, y_test))\n",
    "print('最佳参数\\n',estimator.best_params_)\n",
    "print('最佳结果',estimator.best_score_)\n",
    "print('最佳估计器\\n',estimator.best_estimator_)\n",
    "print('最佳交叉验证结果\\n',estimator.cv_results_)"
   ]
  },
  {
   "cell_type": "code",
   "execution_count": 211,
   "metadata": {},
   "outputs": [
    {
     "name": "stdout",
     "output_type": "stream",
     "text": [
      "结果:\n",
      " 0       False\n",
      "1        True\n",
      "2        True\n",
      "3        True\n",
      "4       False\n",
      "        ...  \n",
      "1308     True\n",
      "1309     True\n",
      "1310     True\n",
      "1311     True\n",
      "1312     True\n",
      "Name: survived, Length: 1313, dtype: bool\n",
      "准确率为\n",
      " 0.6626047220106626\n"
     ]
    }
   ],
   "source": [
    "# 用全数据集重新训练\n",
    "final_model = RandomForestClassifier(max_depth=3, n_estimators=400, random_state=42)\n",
    "final_model.fit(x1, y)\n",
    "y_predict = final_model.predict(x1)\n",
    "print('结果:\\n', y == y_predict)\n",
    "print('准确率为\\n',final_model.score(x1, y))\n"
   ]
  }
 ],
 "metadata": {
  "kernelspec": {
   "display_name": "pytorch",
   "language": "python",
   "name": "python3"
  },
  "language_info": {
   "codemirror_mode": {
    "name": "ipython",
    "version": 3
   },
   "file_extension": ".py",
   "mimetype": "text/x-python",
   "name": "python",
   "nbconvert_exporter": "python",
   "pygments_lexer": "ipython3",
   "version": "3.11.7"
  }
 },
 "nbformat": 4,
 "nbformat_minor": 2
}
